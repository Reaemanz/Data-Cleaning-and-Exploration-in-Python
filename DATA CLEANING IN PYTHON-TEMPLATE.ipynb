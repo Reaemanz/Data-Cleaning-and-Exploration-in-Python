{
 "cells": [
  {
   "cell_type": "markdown",
   "metadata": {},
   "source": [
    "**DATA CLEANING IN PYTHON**"
   ]
  },
  {
   "cell_type": "markdown",
   "metadata": {},
   "source": [
    "There are three questions we should ask ourselves before we do any formal analysis: \n",
    "\n",
    "1) Are we confident that we know the full range of values, and the shape of the distribution, of \n",
    "every variable of interest?\n",
    "\n",
    " 2) Do we have a good idea of the bivariate relationship between \n",
    "variables, how each moves with others? \n",
    "\n",
    "3) How successful are our attempts to fix potential \n",
    "problems, such as outliers and missing values?"
   ]
  },
  {
   "cell_type": "markdown",
   "metadata": {},
   "source": [
    "**Subsetting data**"
   ]
  },
  {
   "cell_type": "code",
   "execution_count": 1,
   "metadata": {},
   "outputs": [],
   "source": [
    "import pandas as pd\n",
    "import numpy as np\n",
    "pd.set_option('display.width', 75) # This sets the maximum width for displaying columns in Pandas\n",
    "pd.set_option('display.max_columns', 5) # This limits the number of columns displayed in a DataFrame to 5.\n",
    "pd.set_option('display.max_rows', 20) # This sets the maximum number of rows displayed in a DataFrame to 20.\n",
    "pd.options.display.float_format = '{:,.2f}'.format # It ensures that floating-point values are displayed with two decimal places."
   ]
  }
 ],
 "metadata": {
  "kernelspec": {
   "display_name": "Python 3",
   "language": "python",
   "name": "python3"
  },
  "language_info": {
   "codemirror_mode": {
    "name": "ipython",
    "version": 3
   },
   "file_extension": ".py",
   "mimetype": "text/x-python",
   "name": "python",
   "nbconvert_exporter": "python",
   "pygments_lexer": "ipython3",
   "version": "undefined.undefined.undefined"
  }
 },
 "nbformat": 4,
 "nbformat_minor": 2
}
